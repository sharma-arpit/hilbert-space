{
 "cells": [
  {
   "cell_type": "code",
   "execution_count": 1,
   "id": "0edd48f5",
   "metadata": {},
   "outputs": [],
   "source": [
    "from qiskit import *\n",
    "import math\n",
    "simulator = Aer.get_backend('qasm_simulator')"
   ]
  },
  {
   "cell_type": "code",
   "execution_count": 2,
   "id": "21a95a93",
   "metadata": {},
   "outputs": [],
   "source": [
    "def quantum_value(ctrl, value, name):\n",
    "    \"\"\"\n",
    "    Encodes the bit values of the number in the circuit\n",
    "    returns: encoded circuit\n",
    "    \"\"\"\n",
    "    \n",
    "    # make a circuit \n",
    "    circ = QuantumCircuit(len(value), name = name)\n",
    "    \n",
    "    # encode the value \n",
    "    for i in range(len(value)):\n",
    "        if value[i] == '1':\n",
    "            circ.x(i)\n",
    "            \n",
    "    circ = circ.control(num_ctrl_qubits = len(ctrl), ctrl_state = ctrl)\n",
    "    \n",
    "    return circ"
   ]
  },
  {
   "cell_type": "code",
   "execution_count": 3,
   "id": "2e8a9927",
   "metadata": {},
   "outputs": [],
   "source": [
    "def qc_vector(n, size_index, size_value, input_vector, first=True):\n",
    "    \"\"\"\n",
    "    Creates the register for the list of numbers. Encodes \n",
    "    the index and the value of the number in the register and returns it.\n",
    "    returns: QuantumCircuit object\n",
    "    \"\"\"\n",
    " \n",
    "    index_register = QuantumRegister(size = size_index, name = \"indices\")\n",
    "    value_register = QuantumRegister(size = size_value, name = \"values\")\n",
    "    \n",
    "    qcirc = QuantumCircuit(index_register, value_register)\n",
    "    \n",
    "    # for first number H needs to be placed first before encoding\n",
    "    if first:\n",
    "        qcirc.h(index_register)\n",
    "        \n",
    "    # start encoding of the bits \n",
    "    for i in range(n):\n",
    "        # get the ctrl state \n",
    "        \n",
    "        ctrl_state = bin(i)[2:].zfill(size_index)\n",
    "        \n",
    "        value = bin(input_vector[i])[2:].zfill(size_value)\n",
    "        \n",
    "        qcirc = qcirc.compose(quantum_value(ctrl_state, value, f'arr_{i}'))\n",
    "    \n",
    "    # for the second number H needs to be placed after encoding\n",
    "    if not first:\n",
    "        qcirc.h(index_register)\n",
    "    \n",
    "    return qcirc"
   ]
  },
  {
   "cell_type": "code",
   "execution_count": 4,
   "id": "741ae578",
   "metadata": {},
   "outputs": [],
   "source": [
    "def equality_oracle(qubit_number, qram1, qram2):\n",
    "    \"\"\"\n",
    "    Creates the oracle by putting both the qrams together in the circuit\n",
    "    returns: QuantumCircuit object\n",
    "    \"\"\"\n",
    "    \n",
    "    qc = QuantumCircuit(qubit_number, name = 'oracle')\n",
    "    \n",
    "    # make the oracle \n",
    "    qc.compose(qram1, inplace = True)\n",
    "    qc.barrier()\n",
    "    qc.compose(qram2, inplace = True)\n",
    "    \n",
    "    \n",
    "    return qc "
   ]
  },
  {
   "cell_type": "code",
   "execution_count": 5,
   "id": "73a0c238",
   "metadata": {},
   "outputs": [],
   "source": [
    "def quantum_isEqual(value1, value2):\n",
    "    \"\"\"\n",
    "    This function takes 2 numbers as an input. Creates a Circuit to compare both the numbers.\n",
    "    returns: '1' if the numbers are equal to each other otherwise '0'\n",
    "    \"\"\"\n",
    "    \n",
    "    input_vector1 = [int(x) for x in str(value1)]\n",
    "    input_vector2 = [int(x) for x in str(value2)]\n",
    "    \n",
    "    n = len(input_vector1) if len(input_vector1) > len(input_vector2) else len(input_vector2)\n",
    "    m = max(input_vector1) if max(input_vector1) > max(input_vector2) else max(input_vector2)\n",
    "    \n",
    "    # fill 0's to match the number of digits in both inputs like [6] --> [0, 6]\n",
    "    input_vector1 = [0]*(n - len(input_vector1)) + input_vector1\n",
    "    input_vector2 = [0]*(n - len(input_vector2)) + input_vector2\n",
    "    \n",
    "    if n == 1:\n",
    "        size_index = 1\n",
    "    else:\n",
    "        size_index = math.ceil(math.log2(n))\n",
    "    size_value = math.floor(math.log2(m)) + 1\n",
    "\n",
    "    qram1 = qc_vector(len(input_vector1), size_index, size_value, input_vector1, first=True)\n",
    "    qram2 = qc_vector(len(input_vector2), size_index, size_value, input_vector2, first=False)\n",
    "    \n",
    "    num_qubits = qram1.num_qubits \n",
    "    \n",
    "    final_circuit = QuantumCircuit(num_qubits + 1,1)\n",
    "    \n",
    "    # build oracle \n",
    "    oracle = equality_oracle(num_qubits, qram1, qram2)\n",
    "    \n",
    "    # add oracle\n",
    "    final_circuit.compose(oracle, inplace = True )\n",
    "    \n",
    "    # build and add the mcx gate \n",
    "    x_gate = QuantumCircuit(1, name = 'x')\n",
    "    x_gate.x(0)\n",
    "    zero_mcx_gate = x_gate.control(num_ctrl_qubits=num_qubits, ctrl_state = 0)\n",
    "    \n",
    "    # compose the gate\n",
    "    final_circuit.compose(zero_mcx_gate, inplace = True)\n",
    "    \n",
    "    # measurement of flag qubit \n",
    "    final_circuit.measure(num_qubits,0)\n",
    "    results = execute(final_circuit, backend = simulator, shots = 2**12).result().get_counts()\n",
    "    \n",
    "    # all the counts were 1, means all zero state on the first\n",
    "    if '0' not in results.keys():\n",
    "        return 1\n",
    "    else:\n",
    "        return 0"
   ]
  },
  {
   "cell_type": "markdown",
   "id": "1e25a262",
   "metadata": {},
   "source": [
    "This function takes 4 sides as an input and compares them with each other. In total, there will be 6 comparisons:\n",
    "<br>1. a compared to b, c, d\n",
    "<br>2. b compared to c, d\n",
    "<br>3. c compared to d\n",
    "\n",
    "And for a rectangle exactly 2 sides will match. In another case, if it is a Square, all 6 comparisons will return True"
   ]
  },
  {
   "cell_type": "code",
   "execution_count": 6,
   "id": "b2f59cfd",
   "metadata": {},
   "outputs": [],
   "source": [
    "def is_rectangle(a, b, c, d):\n",
    "    \"\"\"\n",
    "    Function takes 4 numbers and verifies if those numbers can be the \n",
    "    sides of a rectangle. \n",
    "    parameters: a, b, c, d: 4 sides\n",
    "    returns: '1' if sides represents a rectangle otherwise '0'\n",
    "    \"\"\"\n",
    "    \n",
    "    equal_sides = 0\n",
    "    sides = [a, b, c, d]\n",
    "    \n",
    "    for i, side1 in enumerate(sides):\n",
    "        for side2 in sides[i+1:len(sides)]:\n",
    "            \n",
    "            # compare 2 sides\n",
    "            result = quantum_isEqual(side1, side2)\n",
    "            \n",
    "            if result:\n",
    "                equal_sides += 1\n",
    "    \n",
    "    if equal_sides == 2 or equal_sides == 6:\n",
    "        return '1'\n",
    "    else:\n",
    "        return '0'"
   ]
  },
  {
   "cell_type": "code",
   "execution_count": 7,
   "id": "6aaa2e8f",
   "metadata": {},
   "outputs": [
    {
     "data": {
      "text/plain": [
       "'1'"
      ]
     },
     "execution_count": 7,
     "metadata": {},
     "output_type": "execute_result"
    }
   ],
   "source": [
    "is_rectangle(5, 6, 6, 5)"
   ]
  },
  {
   "cell_type": "code",
   "execution_count": 8,
   "id": "15c97937",
   "metadata": {},
   "outputs": [],
   "source": [
    "def is_rectangle_classical(a, b, c, d):\n",
    "    \"\"\"\n",
    "    Function takes 4 numbers and verifies if those numbers can be the \n",
    "    sides of a rectangle. \n",
    "    parameters: a, b, c, d: 4 sides\n",
    "    returns: '1' if sides represents a rectangle otherwise '0'\n",
    "    \"\"\"\n",
    "    \n",
    "    equal_sides = 0\n",
    "    sides = [a, b, c, d]\n",
    "    \n",
    "    for i, side1 in enumerate(sides):\n",
    "        for side2 in sides[i+1:len(sides)]:\n",
    "            if side1 == side2:\n",
    "                equal_sides += 1\n",
    "    \n",
    "    if equal_sides == 2 or equal_sides == 6:\n",
    "        return '1'\n",
    "    else:\n",
    "        return '0'"
   ]
  },
  {
   "cell_type": "code",
   "execution_count": 9,
   "id": "3ba8f70c",
   "metadata": {},
   "outputs": [],
   "source": [
    "import random\n",
    "\n",
    "def test(num_test):\n",
    "    \n",
    "    success = 0\n",
    "    failure = 0\n",
    "\n",
    "    for i in range(num_test):\n",
    "        sides = list()\n",
    "        for i in range(4):\n",
    "            n = random.randint(1,30)\n",
    "            sides.append(n)\n",
    "\n",
    "        quantum_result = is_rectangle(sides[0], sides[1], sides[2], sides[3])\n",
    "        classical_result = is_rectangle_classical(sides[0], sides[1], sides[2], sides[3])\n",
    "\n",
    "        if quantum_result == classical_result:\n",
    "            success += 1\n",
    "        else:\n",
    "            failure += 1\n",
    "        \n",
    "    return {\"Success\": success, \"Failure\": failure}"
   ]
  },
  {
   "cell_type": "code",
   "execution_count": 10,
   "id": "a67f0195",
   "metadata": {},
   "outputs": [
    {
     "data": {
      "text/plain": [
       "{'Success': 1000, 'Failure': 0}"
      ]
     },
     "execution_count": 10,
     "metadata": {},
     "output_type": "execute_result"
    }
   ],
   "source": [
    "test(1000)"
   ]
  }
 ],
 "metadata": {
  "kernelspec": {
   "display_name": "Python 3 (ipykernel)",
   "language": "python",
   "name": "python3"
  },
  "language_info": {
   "codemirror_mode": {
    "name": "ipython",
    "version": 3
   },
   "file_extension": ".py",
   "mimetype": "text/x-python",
   "name": "python",
   "nbconvert_exporter": "python",
   "pygments_lexer": "ipython3",
   "version": "3.10.9"
  }
 },
 "nbformat": 4,
 "nbformat_minor": 5
}
