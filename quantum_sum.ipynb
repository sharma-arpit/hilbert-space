{
 "cells": [
  {
   "cell_type": "code",
   "execution_count": 1,
   "id": "a392f281",
   "metadata": {},
   "outputs": [],
   "source": [
    "import numpy as np\n",
    "from qiskit import QuantumCircuit, transpile\n",
    "from qiskit.providers.aer import QasmSimulator\n",
    "from qiskit.visualization import plot_histogram"
   ]
  },
  {
   "cell_type": "code",
   "execution_count": 4,
   "id": "c1d968d4",
   "metadata": {
    "scrolled": true
   },
   "outputs": [
    {
     "data": {
      "text/plain": [
       "<qiskit.circuit.instructionset.InstructionSet at 0x121b99780>"
      ]
     },
     "execution_count": 4,
     "metadata": {},
     "output_type": "execute_result"
    }
   ],
   "source": [
    "simulator = QasmSimulator()\n",
    "\n",
    "circuit = QuantumCircuit(2, 2)\n",
    "\n",
    "# circuit.x(0)\n",
    "circuit.x(1)\n",
    "circuit.h(0)\n",
    "circuit.cx(0, 1)\n",
    "circuit.h(0)\n",
    "circuit.measure([0,1], [1, 0])"
   ]
  },
  {
   "cell_type": "code",
   "execution_count": 5,
   "id": "7d31a05e",
   "metadata": {},
   "outputs": [
    {
     "name": "stdout",
     "output_type": "stream",
     "text": [
      "\n",
      "Total count for ['00', '11', '10', '01'] are: {'00': 247, '11': 255, '10': 259, '01': 239}\n"
     ]
    },
    {
     "data": {
      "text/html": [
       "<pre style=\"word-wrap: normal;white-space: pre;background: #fff0;line-height: 1.1;font-family: &quot;Courier New&quot;,Courier,monospace\">     ┌───┐     ┌───┐┌─┐\n",
       "q_0: ┤ H ├──■──┤ H ├┤M├\n",
       "     ├───┤┌─┴─┐└┬─┬┘└╥┘\n",
       "q_1: ┤ X ├┤ X ├─┤M├──╫─\n",
       "     └───┘└───┘ └╥┘  ║ \n",
       "c: 2/════════════╩═══╩═\n",
       "                 0   1 </pre>"
      ],
      "text/plain": [
       "     ┌───┐     ┌───┐┌─┐\n",
       "q_0: ┤ H ├──■──┤ H ├┤M├\n",
       "     ├───┤┌─┴─┐└┬─┬┘└╥┘\n",
       "q_1: ┤ X ├┤ X ├─┤M├──╫─\n",
       "     └───┘└───┘ └╥┘  ║ \n",
       "c: 2/════════════╩═══╩═\n",
       "                 0   1 "
      ]
     },
     "execution_count": 5,
     "metadata": {},
     "output_type": "execute_result"
    }
   ],
   "source": [
    "compiled_circuit = transpile(circuit, simulator)\n",
    "job = simulator.run(compiled_circuit, shots=1000)\n",
    "result = job.result()\n",
    "\n",
    "counts = result.get_counts(compiled_circuit)\n",
    "\n",
    "print(f\"\\nTotal count for {list(counts.keys())} are:\", counts)\n",
    "circuit.draw()"
   ]
  },
  {
   "cell_type": "code",
   "execution_count": null,
   "id": "a6d1c5e3",
   "metadata": {},
   "outputs": [],
   "source": []
  }
 ],
 "metadata": {
  "kernelspec": {
   "display_name": "Python 3 (ipykernel)",
   "language": "python",
   "name": "python3"
  },
  "language_info": {
   "codemirror_mode": {
    "name": "ipython",
    "version": 3
   },
   "file_extension": ".py",
   "mimetype": "text/x-python",
   "name": "python",
   "nbconvert_exporter": "python",
   "pygments_lexer": "ipython3",
   "version": "3.10.9"
  }
 },
 "nbformat": 4,
 "nbformat_minor": 5
}
